{
 "cells": [
  {
   "cell_type": "markdown",
   "id": "7877d414-d968-4e8c-8314-719a40f6c334",
   "metadata": {},
   "source": [
    "# Data Import\n",
    "Using Jupyter Notebook to create the information and use it to hold the data of interview questions and answers\n",
    "\n",
    "I will use a dictionary to manually create them and then turn it into a dataframe.\n",
    "\n",
    "I will then use that dataframe to import data into the MySQL database to populate the tables in the interview_questions database"
   ]
  },
  {
   "cell_type": "code",
   "execution_count": 2,
   "id": "f3c3917c-e5c1-40ef-a45d-982adfead307",
   "metadata": {},
   "outputs": [
    {
     "name": "stderr",
     "output_type": "stream",
     "text": [
      "C:\\Users\\RhaMo\\AppData\\Local\\Temp\\ipykernel_9644\\4080736814.py:1: DeprecationWarning: \n",
      "Pyarrow will become a required dependency of pandas in the next major release of pandas (pandas 3.0),\n",
      "(to allow more performant data types, such as the Arrow string type, and better interoperability with other libraries)\n",
      "but was not found to be installed on your system.\n",
      "If this would cause problems for you,\n",
      "please provide us feedback at https://github.com/pandas-dev/pandas/issues/54466\n",
      "        \n",
      "  import pandas as pd\n"
     ]
    }
   ],
   "source": [
    "import pandas as pd"
   ]
  },
  {
   "cell_type": "markdown",
   "id": "9e5975c1-1779-426b-9843-5e96b1616fdb",
   "metadata": {},
   "source": [
    "## Creating the Data\n",
    "I am going to manually create the questions I want to input and put in their coressponding answers with them\n",
    "\n",
    "Creating a dictionary to use the keys as columns and the values as rows.\n",
    "\n",
    "The key will be a `str` representing the column and the values of the key will be a `list` of questions/answers that will reperesent the rows"
   ]
  },
  {
   "cell_type": "code",
   "execution_count": 5,
   "id": "586d31aa-ed77-465f-b1d6-fa26d4dadf9a",
   "metadata": {},
   "outputs": [],
   "source": [
    "technical_questions = {\n",
    "    'id': [0],\n",
    "    'question': [\n",
    "        'What is Polymorphism?',\n",
    "        'What is a fibonacci series?',\n",
    "        'What is a Join in SQL?',\n",
    "        'What are all the Joins in SQL?',\n",
    "        'What is an Inner Join?',\n",
    "        'What is Left Join?',\n",
    "        'What is Right Join?',\n",
    "        'What is Full Join?',\n",
    "        'Explain the process of a user visiting a web page. What HTTP methods are involved?',\n",
    "        'What are your thoughts on declarative vs. imperative paradigms such as functional and object-oriented programming'\n",
    "    ],\n",
    "    'answer': [\n",
    "        'many forms;  methods/functions/operators with the same name that can be executed on many objects or classes',\n",
    "        'a sequence in which each number is the sum of the two preceding ones',\n",
    "        'a clause used to combine rows from two or more tables based on a related column between them',\n",
    "        'Inner Join, Left Join, Right Join, Full Join',\n",
    "        'returns all data that have matching values in both tables',\n",
    "        'returns all data from the left table, and the matched data from the right table',\n",
    "        'returns all data from the right table, and the mathched data from the left table',\n",
    "        'returns all data when there is a match in either the left or right',\n",
    "        'User enters URL in browser. This sends a request to a DNS server to translate the domain name into an IP Address. The browser then connects to that IP address,\n",
    "        request webpage data, receives the HTML code from the web server, and finally renders the page on the screen, displaying the website content.\n",
    "        primarily involves the \"GET\" HTTP method, which is used to retrieve data from a server without modifying it.\n",
    "        \n",
    "        \n",
    "    ]\n",
    "}"
   ]
  },
  {
   "cell_type": "code",
   "execution_count": 6,
   "id": "ce79e3d8-ab18-4243-964c-11a68504afaf",
   "metadata": {},
   "outputs": [
    {
     "data": {
      "text/html": [
       "<div>\n",
       "<style scoped>\n",
       "    .dataframe tbody tr th:only-of-type {\n",
       "        vertical-align: middle;\n",
       "    }\n",
       "\n",
       "    .dataframe tbody tr th {\n",
       "        vertical-align: top;\n",
       "    }\n",
       "\n",
       "    .dataframe thead th {\n",
       "        text-align: right;\n",
       "    }\n",
       "</style>\n",
       "<table border=\"1\" class=\"dataframe\">\n",
       "  <thead>\n",
       "    <tr style=\"text-align: right;\">\n",
       "      <th></th>\n",
       "      <th>id</th>\n",
       "      <th>question</th>\n",
       "      <th>answer</th>\n",
       "    </tr>\n",
       "  </thead>\n",
       "  <tbody>\n",
       "    <tr>\n",
       "      <th>0</th>\n",
       "      <td>0</td>\n",
       "      <td>What is Polymorphism?</td>\n",
       "      <td>many forms;  methods/functions/operators with ...</td>\n",
       "    </tr>\n",
       "  </tbody>\n",
       "</table>\n",
       "</div>"
      ],
      "text/plain": [
       "   id               question  \\\n",
       "0   0  What is Polymorphism?   \n",
       "\n",
       "                                              answer  \n",
       "0  many forms;  methods/functions/operators with ...  "
      ]
     },
     "execution_count": 6,
     "metadata": {},
     "output_type": "execute_result"
    }
   ],
   "source": [
    "df = pd.DataFrame(technical_questions)\n",
    "df"
   ]
  },
  {
   "cell_type": "code",
   "execution_count": null,
   "id": "f32c2d91-c758-4013-bcdc-5008acba9ca5",
   "metadata": {},
   "outputs": [],
   "source": []
  }
 ],
 "metadata": {
  "kernelspec": {
   "display_name": "Python 3 (ipykernel)",
   "language": "python",
   "name": "python3"
  },
  "language_info": {
   "codemirror_mode": {
    "name": "ipython",
    "version": 3
   },
   "file_extension": ".py",
   "mimetype": "text/x-python",
   "name": "python",
   "nbconvert_exporter": "python",
   "pygments_lexer": "ipython3",
   "version": "3.12.2"
  }
 },
 "nbformat": 4,
 "nbformat_minor": 5
}
