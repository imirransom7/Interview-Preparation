{
 "cells": [
  {
   "cell_type": "markdown",
   "id": "7877d414-d968-4e8c-8314-719a40f6c334",
   "metadata": {},
   "source": [
    "# Data Import\n",
    "Using Jupyter Notebook to create the information and use it to hold the data of interview questions and answers\n",
    "\n",
    "I will use a dictionary to manually create them and then turn it into a dataframe.\n",
    "\n",
    "I will then use that dataframe to import data into the MySQL database to populate the tables in the interview_questions database"
   ]
  },
  {
   "cell_type": "code",
   "execution_count": 10,
   "id": "f3c3917c-e5c1-40ef-a45d-982adfead307",
   "metadata": {},
   "outputs": [],
   "source": [
    "import pandas as pd"
   ]
  },
  {
   "cell_type": "markdown",
   "id": "9e5975c1-1779-426b-9843-5e96b1616fdb",
   "metadata": {},
   "source": [
    "## Creating the Data\n",
    "I am going to manually create the questions I want to input and put in their coressponding answers with them\n",
    "\n",
    "Creating a dictionary to use the keys as columns and the values as rows.\n",
    "\n",
    "The key will be a `str` representing the column and the values of the key will be a `list` of questions/answers that will reperesent the rows"
   ]
  },
  {
   "cell_type": "code",
   "execution_count": 19,
   "id": "586d31aa-ed77-465f-b1d6-fa26d4dadf9a",
   "metadata": {},
   "outputs": [],
   "source": [
    "technical_questions = {\n",
    "    'id': [\n",
    "        0, 1, 2, 3, 5, 6, 7, 8, 9, 10, 11, 12, 13, 14, 15, 16, 17, 18, 19, 20, 21, 22, 23, 24, 25, 26, 27\n",
    "           ],\n",
    "    'question': [\n",
    "        'What is Polymorphism?',\n",
    "        'What is a fibonacci series?',\n",
    "        'What is a Join in SQL?',\n",
    "        'What are all the Joins in SQL?',\n",
    "        'What is an Inner Join?',\n",
    "        'What is Left Join?',\n",
    "        'What is Right Join?',\n",
    "        'What is Full Join?',\n",
    "        'Explain the process of a user visiting a web page. What HTTP methods are involved?',\n",
    "        'What are your thoughts on declarative vs. imperative paradigms?',\n",
    "        'What is OOP?',\n",
    "        'What are the 4 pillars of OOP?',\n",
    "        'What is Abstraction?',\n",
    "        'What is Inheritance?',\n",
    "        'What is Encapsulation?',\n",
    "        'What is functional programming?',\n",
    "        'What are you thoughts functional and object-oriented programming?',\n",
    "        'What are list?',\n",
    "        'What are Tuples?',\n",
    "        'What is a dictionary?',\n",
    "        'What is a set?',\n",
    "        'What is a list comprehension?',\n",
    "        'What is the \"with\" statement designed for?',\n",
    "        'What is Try, Except in Python?',\n",
    "        'What does the else block do in a try/except clause?',\n",
    "        'What does the finally block do in a try/except clause?',\n",
    "        'What are decorators in Python?',\n",
    "        'What are the advantages of NumPy over regular Python lists?'\n",
    "    ],\n",
    "    'answer': [\n",
    "        'many forms;  methods/functions/operators with the same name that can be executed on many objects or classes\\\n",
    "        allows multiple classes to implement the same method in different ways',\n",
    "        'a sequence in which each number is the sum of the two preceding ones',\n",
    "        'a clause used to combine rows from two or more tables based on a related column between them',\n",
    "        'inner Join, Left Join, Right Join, Full Join',\n",
    "        'returns all data that have matching values in both tables',\n",
    "        'returns all data from the left table, and the matched data from the right table',\n",
    "        'returns all data from the right table, and the matched data from the left table',\n",
    "        'returns all data when there is a match in either the left or right',\n",
    "        'user enters URL in browser. This sends a request to a DNS server to translate the domain name into an IP\\\n",
    "        Address. The browser then connects to that IP address, request webpage data, receives the HTML code from the\\\n",
    "        web server, and finally renders the page on the screen, displaying the website content. primarily involves the\\\n",
    "        GET HTTP method, which is used to retrieve data from a server without modifying it.',\n",
    "        'declarative programming generally leads to more readable, maintainable, and easier-to-understand code; it is\\\n",
    "        code that says what you want; what the program should do, while imperative code says how you want something\\\n",
    "        done; how the program should do it. this is good to use when your problem involves complex control flows and\\\n",
    "        state changes,\\\n",
    "        or when you need to interact with low-level hardware',\n",
    "        'it is Object Oriented Programming, a programming paradigm that organizes software design around objects,\\\n",
    "        rather than functions and logic',\n",
    "        'the 4 pillars of OOP are Abstract, Inheritance, Encapsulation, and Polymorphism',\n",
    "        'the process of simplifying code by removing unnecessary details and hiding complexity, This makes it easier to\\\n",
    "        implement algorithms and communicate with digital tools.',\n",
    "        'allows programmers to create new classes based on existing ones;  creates a hierarchy of classes that share\\\n",
    "        methods and attributes',\n",
    "        'bundle data and methods into easy-to-use units; such as classes. Encapsulation is also used in scope.\\\n",
    "        Encapsulates things that should not be modified by other parts of your code',\n",
    "        'using functions as data objects throughout code regardless of whether the language makes this simple or not.\\\n",
    "        An approach to software development that uses pure functions to create maintainable software',\n",
    "        'OOP is a good choice to use if  memory is limited, as FP tends to require more memory. on the other hand,\\\n",
    "        Functional programming makes it so that all of your objects are (at least semantically) immutable and that\\\n",
    "        every function is referentially transparent',\n",
    "        'a data structure that is in mutable that can hold any time of data type or structure inside them. It has many\\\n",
    "        various built-in methods for manipulation. However, lists consumes more memory and has slower iteration but is\\\n",
    "        better for insertion and deletion',\n",
    "        'a data type that is immutable and consumes less memory. Has faster iteration, but is not as flexible with\\\n",
    "        limited built-in functions',\n",
    "        'a mutable data structure that allows you to store key-value pairs; a collection which is ordered (Python 3.6\\\n",
    "        and earlier, dictionaries are unordered), changeable and do not allow duplicates for the keys',\n",
    "        'a data collection type used in Python for storing multiple items in a single variable; sets are unordered.\\\n",
    "        These are generally used when you do not want a repeat of data',\n",
    "        'a one-liner that is able to create a new list based on values from an existing list',\n",
    "        'it is typically used for the management of opening, creating, editing, and saving a file',\n",
    "        'the try block lets you test a block of code for errors and the except block lets you handle the error.',\n",
    "        'the else block lets you execute code when there is no error.',\n",
    "        'the finally block lets you execute code, regardless of the result of the try- and except blocks',\n",
    "        'design pattern that adds new functionality to an existing object without modifying its structure; used to\\\n",
    "        extend the behavior of functions or methods',\n",
    "        'numpy arrays use less memory, are faster at performing operations and they offer simple array multiple,\\\n",
    "        addition, and a lot more built-in functionality'\n",
    "    ]\n",
    "}"
   ]
  },
  {
   "cell_type": "markdown",
   "id": "f537388b-201f-4b51-9834-88f1d8b5e44a",
   "metadata": {},
   "source": [
    "### Checking the lengths\n",
    "making sure they match so an error is not thrown when trying to make a dataframe"
   ]
  },
  {
   "cell_type": "code",
   "execution_count": 25,
   "id": "83506f35-c41e-404c-9b7b-120f7714ac6d",
   "metadata": {},
   "outputs": [
    {
     "name": "stdout",
     "output_type": "stream",
     "text": [
      "27\n",
      "28\n",
      "28\n"
     ]
    }
   ],
   "source": [
    "print(len(technical_questions['id']))\n",
    "print(len(technical_questions['question']))\n",
    "print(len(technical_questions['answer']))"
   ]
  },
  {
   "cell_type": "code",
   "execution_count": 16,
   "id": "ce79e3d8-ab18-4243-964c-11a68504afaf",
   "metadata": {},
   "outputs": [
    {
     "ename": "ValueError",
     "evalue": "All arrays must be of the same length",
     "output_type": "error",
     "traceback": [
      "\u001b[1;31m---------------------------------------------------------------------------\u001b[0m",
      "\u001b[1;31mValueError\u001b[0m                                Traceback (most recent call last)",
      "Cell \u001b[1;32mIn[16], line 1\u001b[0m\n\u001b[1;32m----> 1\u001b[0m df \u001b[38;5;241m=\u001b[39m \u001b[43mpd\u001b[49m\u001b[38;5;241;43m.\u001b[39;49m\u001b[43mDataFrame\u001b[49m\u001b[43m(\u001b[49m\u001b[43mtechnical_questions\u001b[49m\u001b[43m)\u001b[49m\n\u001b[0;32m      2\u001b[0m df\n",
      "File \u001b[1;32m\\\\?\\C:\\Users\\RhaMo\\AppData\\Roaming\\jupyterlab-desktop\\jlab_server\\Lib\\site-packages\\pandas\\core\\frame.py:767\u001b[0m, in \u001b[0;36mDataFrame.__init__\u001b[1;34m(self, data, index, columns, dtype, copy)\u001b[0m\n\u001b[0;32m    761\u001b[0m     mgr \u001b[38;5;241m=\u001b[39m \u001b[38;5;28mself\u001b[39m\u001b[38;5;241m.\u001b[39m_init_mgr(\n\u001b[0;32m    762\u001b[0m         data, axes\u001b[38;5;241m=\u001b[39m{\u001b[38;5;124m\"\u001b[39m\u001b[38;5;124mindex\u001b[39m\u001b[38;5;124m\"\u001b[39m: index, \u001b[38;5;124m\"\u001b[39m\u001b[38;5;124mcolumns\u001b[39m\u001b[38;5;124m\"\u001b[39m: columns}, dtype\u001b[38;5;241m=\u001b[39mdtype, copy\u001b[38;5;241m=\u001b[39mcopy\n\u001b[0;32m    763\u001b[0m     )\n\u001b[0;32m    765\u001b[0m \u001b[38;5;28;01melif\u001b[39;00m \u001b[38;5;28misinstance\u001b[39m(data, \u001b[38;5;28mdict\u001b[39m):\n\u001b[0;32m    766\u001b[0m     \u001b[38;5;66;03m# GH#38939 de facto copy defaults to False only in non-dict cases\u001b[39;00m\n\u001b[1;32m--> 767\u001b[0m     mgr \u001b[38;5;241m=\u001b[39m \u001b[43mdict_to_mgr\u001b[49m\u001b[43m(\u001b[49m\u001b[43mdata\u001b[49m\u001b[43m,\u001b[49m\u001b[43m \u001b[49m\u001b[43mindex\u001b[49m\u001b[43m,\u001b[49m\u001b[43m \u001b[49m\u001b[43mcolumns\u001b[49m\u001b[43m,\u001b[49m\u001b[43m \u001b[49m\u001b[43mdtype\u001b[49m\u001b[38;5;241;43m=\u001b[39;49m\u001b[43mdtype\u001b[49m\u001b[43m,\u001b[49m\u001b[43m \u001b[49m\u001b[43mcopy\u001b[49m\u001b[38;5;241;43m=\u001b[39;49m\u001b[43mcopy\u001b[49m\u001b[43m,\u001b[49m\u001b[43m \u001b[49m\u001b[43mtyp\u001b[49m\u001b[38;5;241;43m=\u001b[39;49m\u001b[43mmanager\u001b[49m\u001b[43m)\u001b[49m\n\u001b[0;32m    768\u001b[0m \u001b[38;5;28;01melif\u001b[39;00m \u001b[38;5;28misinstance\u001b[39m(data, ma\u001b[38;5;241m.\u001b[39mMaskedArray):\n\u001b[0;32m    769\u001b[0m     \u001b[38;5;28;01mfrom\u001b[39;00m \u001b[38;5;21;01mnumpy\u001b[39;00m\u001b[38;5;21;01m.\u001b[39;00m\u001b[38;5;21;01mma\u001b[39;00m \u001b[38;5;28;01mimport\u001b[39;00m mrecords\n",
      "File \u001b[1;32m\\\\?\\C:\\Users\\RhaMo\\AppData\\Roaming\\jupyterlab-desktop\\jlab_server\\Lib\\site-packages\\pandas\\core\\internals\\construction.py:503\u001b[0m, in \u001b[0;36mdict_to_mgr\u001b[1;34m(data, index, columns, dtype, typ, copy)\u001b[0m\n\u001b[0;32m    499\u001b[0m     \u001b[38;5;28;01melse\u001b[39;00m:\n\u001b[0;32m    500\u001b[0m         \u001b[38;5;66;03m# dtype check to exclude e.g. range objects, scalars\u001b[39;00m\n\u001b[0;32m    501\u001b[0m         arrays \u001b[38;5;241m=\u001b[39m [x\u001b[38;5;241m.\u001b[39mcopy() \u001b[38;5;28;01mif\u001b[39;00m \u001b[38;5;28mhasattr\u001b[39m(x, \u001b[38;5;124m\"\u001b[39m\u001b[38;5;124mdtype\u001b[39m\u001b[38;5;124m\"\u001b[39m) \u001b[38;5;28;01melse\u001b[39;00m x \u001b[38;5;28;01mfor\u001b[39;00m x \u001b[38;5;129;01min\u001b[39;00m arrays]\n\u001b[1;32m--> 503\u001b[0m \u001b[38;5;28;01mreturn\u001b[39;00m \u001b[43marrays_to_mgr\u001b[49m\u001b[43m(\u001b[49m\u001b[43marrays\u001b[49m\u001b[43m,\u001b[49m\u001b[43m \u001b[49m\u001b[43mcolumns\u001b[49m\u001b[43m,\u001b[49m\u001b[43m \u001b[49m\u001b[43mindex\u001b[49m\u001b[43m,\u001b[49m\u001b[43m \u001b[49m\u001b[43mdtype\u001b[49m\u001b[38;5;241;43m=\u001b[39;49m\u001b[43mdtype\u001b[49m\u001b[43m,\u001b[49m\u001b[43m \u001b[49m\u001b[43mtyp\u001b[49m\u001b[38;5;241;43m=\u001b[39;49m\u001b[43mtyp\u001b[49m\u001b[43m,\u001b[49m\u001b[43m \u001b[49m\u001b[43mconsolidate\u001b[49m\u001b[38;5;241;43m=\u001b[39;49m\u001b[43mcopy\u001b[49m\u001b[43m)\u001b[49m\n",
      "File \u001b[1;32m\\\\?\\C:\\Users\\RhaMo\\AppData\\Roaming\\jupyterlab-desktop\\jlab_server\\Lib\\site-packages\\pandas\\core\\internals\\construction.py:114\u001b[0m, in \u001b[0;36marrays_to_mgr\u001b[1;34m(arrays, columns, index, dtype, verify_integrity, typ, consolidate)\u001b[0m\n\u001b[0;32m    111\u001b[0m \u001b[38;5;28;01mif\u001b[39;00m verify_integrity:\n\u001b[0;32m    112\u001b[0m     \u001b[38;5;66;03m# figure out the index, if necessary\u001b[39;00m\n\u001b[0;32m    113\u001b[0m     \u001b[38;5;28;01mif\u001b[39;00m index \u001b[38;5;129;01mis\u001b[39;00m \u001b[38;5;28;01mNone\u001b[39;00m:\n\u001b[1;32m--> 114\u001b[0m         index \u001b[38;5;241m=\u001b[39m \u001b[43m_extract_index\u001b[49m\u001b[43m(\u001b[49m\u001b[43marrays\u001b[49m\u001b[43m)\u001b[49m\n\u001b[0;32m    115\u001b[0m     \u001b[38;5;28;01melse\u001b[39;00m:\n\u001b[0;32m    116\u001b[0m         index \u001b[38;5;241m=\u001b[39m ensure_index(index)\n",
      "File \u001b[1;32m\\\\?\\C:\\Users\\RhaMo\\AppData\\Roaming\\jupyterlab-desktop\\jlab_server\\Lib\\site-packages\\pandas\\core\\internals\\construction.py:677\u001b[0m, in \u001b[0;36m_extract_index\u001b[1;34m(data)\u001b[0m\n\u001b[0;32m    675\u001b[0m lengths \u001b[38;5;241m=\u001b[39m \u001b[38;5;28mlist\u001b[39m(\u001b[38;5;28mset\u001b[39m(raw_lengths))\n\u001b[0;32m    676\u001b[0m \u001b[38;5;28;01mif\u001b[39;00m \u001b[38;5;28mlen\u001b[39m(lengths) \u001b[38;5;241m>\u001b[39m \u001b[38;5;241m1\u001b[39m:\n\u001b[1;32m--> 677\u001b[0m     \u001b[38;5;28;01mraise\u001b[39;00m \u001b[38;5;167;01mValueError\u001b[39;00m(\u001b[38;5;124m\"\u001b[39m\u001b[38;5;124mAll arrays must be of the same length\u001b[39m\u001b[38;5;124m\"\u001b[39m)\n\u001b[0;32m    679\u001b[0m \u001b[38;5;28;01mif\u001b[39;00m have_dicts:\n\u001b[0;32m    680\u001b[0m     \u001b[38;5;28;01mraise\u001b[39;00m \u001b[38;5;167;01mValueError\u001b[39;00m(\n\u001b[0;32m    681\u001b[0m         \u001b[38;5;124m\"\u001b[39m\u001b[38;5;124mMixing dicts with non-Series may lead to ambiguous ordering.\u001b[39m\u001b[38;5;124m\"\u001b[39m\n\u001b[0;32m    682\u001b[0m     )\n",
      "\u001b[1;31mValueError\u001b[0m: All arrays must be of the same length"
     ]
    }
   ],
   "source": [
    "df = pd.DataFrame(technical_questions)\n",
    "df"
   ]
  },
  {
   "cell_type": "code",
   "execution_count": null,
   "id": "f32c2d91-c758-4013-bcdc-5008acba9ca5",
   "metadata": {},
   "outputs": [],
   "source": []
  }
 ],
 "metadata": {
  "kernelspec": {
   "display_name": "Python 3 (ipykernel)",
   "language": "python",
   "name": "python3"
  },
  "language_info": {
   "codemirror_mode": {
    "name": "ipython",
    "version": 3
   },
   "file_extension": ".py",
   "mimetype": "text/x-python",
   "name": "python",
   "nbconvert_exporter": "python",
   "pygments_lexer": "ipython3",
   "version": "3.12.2"
  }
 },
 "nbformat": 4,
 "nbformat_minor": 5
}
